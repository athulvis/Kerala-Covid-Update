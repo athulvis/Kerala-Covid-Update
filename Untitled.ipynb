{
 "cells": [
  {
   "cell_type": "code",
   "execution_count": 2,
   "id": "published-playlist",
   "metadata": {},
   "outputs": [],
   "source": [
    "import pandas as pd\n",
    "from functools import partial, reduce"
   ]
  },
  {
   "cell_type": "code",
   "execution_count": 6,
   "id": "distinct-crossing",
   "metadata": {},
   "outputs": [],
   "source": [
    "dist_dict = {0: 'Kerala', 1: 'KSD', 2: 'KNR', 3: 'WYD', 4: 'KKD', 5: 'MLP', 6: 'PKD', 7: 'TSR', 8: 'EKM', 9: 'IDK', 10: 'KTM', 11: 'ALP', 12: 'PTA',\n",
    "                13: 'KLM', 14: 'TVM'}\n",
    "dfs = []\n",
    "for key, value in dist_dict.items():\n",
    "    df = pd.read_csv(f\"{value}.csv\", index_col= None)\n",
    "    s_df = df[[\"Date\",\"Confirmed\"]].copy()\n",
    "    s_df.rename(columns = {'Confirmed': value}, inplace = True)\n",
    "    dfs.append(s_df)"
   ]
  },
  {
   "cell_type": "code",
   "execution_count": 7,
   "id": "confused-remove",
   "metadata": {},
   "outputs": [],
   "source": [
    "merge = partial(pd.merge, on=['Date'], how='outer')"
   ]
  },
  {
   "cell_type": "code",
   "execution_count": 12,
   "id": "humanitarian-laundry",
   "metadata": {},
   "outputs": [],
   "source": [
    "result_df = reduce(merge, dfs)"
   ]
  },
  {
   "cell_type": "code",
   "execution_count": 20,
   "id": "alive-vault",
   "metadata": {},
   "outputs": [],
   "source": [
    "final_df = result_df[['Date','Kerala', 'TVM', 'KLM', 'PTA','ALP','KTM','IDK','EKM','TSR','PKD','MLP','KKD', 'WYD','KNR','KSD']]"
   ]
  },
  {
   "cell_type": "code",
   "execution_count": 21,
   "id": "genuine-federal",
   "metadata": {},
   "outputs": [],
   "source": [
    "final_df.fillna(0,inplace=True)"
   ]
  },
  {
   "cell_type": "code",
   "execution_count": 28,
   "id": "limiting-intake",
   "metadata": {},
   "outputs": [],
   "source": [
    "out = final_df.set_index(\"Date\").astype(int)"
   ]
  },
  {
   "cell_type": "code",
   "execution_count": 29,
   "id": "corrected-horror",
   "metadata": {},
   "outputs": [],
   "source": [
    "out.to_excel(\"covid_data.xlsx\")  "
   ]
  },
  {
   "cell_type": "code",
   "execution_count": null,
   "id": "talented-region",
   "metadata": {},
   "outputs": [],
   "source": []
  }
 ],
 "metadata": {
  "kernelspec": {
   "display_name": "Python 3",
   "language": "python",
   "name": "python3"
  },
  "language_info": {
   "codemirror_mode": {
    "name": "ipython",
    "version": 3
   },
   "file_extension": ".py",
   "mimetype": "text/x-python",
   "name": "python",
   "nbconvert_exporter": "python",
   "pygments_lexer": "ipython3",
   "version": "3.8.10"
  }
 },
 "nbformat": 4,
 "nbformat_minor": 5
}
